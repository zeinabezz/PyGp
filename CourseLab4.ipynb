{
 "cells": [
  {
   "cell_type": "markdown",
   "metadata": {},
   "source": [
    "# <font color=red >Chapter 4: Making Your Program Interactive</font>"
   ]
  },
  {
   "cell_type": "markdown",
   "metadata": {},
   "source": [
    "# Taking input from a user using <font color=blue> input() </font>function"
   ]
  },
  {
   "cell_type": "code",
   "execution_count": 489,
   "metadata": {},
   "outputs": [
    {
     "name": "stdout",
     "output_type": "stream",
     "text": [
      "Please enter your name: ALi\n"
     ]
    }
   ],
   "source": [
    "name=input(\"Please enter your name: \")     # take input from the user and store it as a string in the variable name"
   ]
  },
  {
   "cell_type": "code",
   "execution_count": 491,
   "metadata": {},
   "outputs": [
    {
     "data": {
      "text/plain": [
       "'ALi'"
      ]
     },
     "execution_count": 491,
     "metadata": {},
     "output_type": "execute_result"
    }
   ],
   "source": [
    "name    # the variable name is string "
   ]
  },
  {
   "cell_type": "code",
   "execution_count": 492,
   "metadata": {},
   "outputs": [
    {
     "name": "stdout",
     "output_type": "stream",
     "text": [
      "What about your age: 23\n"
     ]
    }
   ],
   "source": [
    "myAge = input(\"What about your age: \")     # take input from the user and store it as a string in the variable myAge"
   ]
  },
  {
   "cell_type": "code",
   "execution_count": 495,
   "metadata": {},
   "outputs": [
    {
     "data": {
      "text/plain": [
       "'23'"
      ]
     },
     "execution_count": 495,
     "metadata": {},
     "output_type": "execute_result"
    }
   ],
   "source": [
    "myAge       # the variable myAge is string"
   ]
  },
  {
   "cell_type": "code",
   "execution_count": 502,
   "metadata": {},
   "outputs": [
    {
     "name": "stdout",
     "output_type": "stream",
     "text": [
      "Please enter your name: ALi\n",
      "What about your age: 12\n",
      "Hello World, my name is ALi and I am 12 years old.\n"
     ]
    }
   ],
   "source": [
    "myName = input(\"Please enter your name: \")\n",
    "myAge = int(input(\"What about your age: \"))   # cast the user input from string to integer number\n",
    "print (\"Hello World, my name is\", myName, \"and I am\", myAge, \"years old.\")"
   ]
  },
  {
   "cell_type": "markdown",
   "metadata": {},
   "source": [
    "# To display information to users, <font color=blue> print() </font> function is.\n",
    "## It accepts zero or more expressions as parameters, separated by commas. "
   ]
  },
  {
   "cell_type": "code",
   "execution_count": 505,
   "metadata": {},
   "outputs": [
    {
     "name": "stdout",
     "output_type": "stream",
     "text": [
      "Hello World, my name is ALi and I am 12 years old.\n"
     ]
    }
   ],
   "source": [
    "print (\"Hello World, my name is\", myName, \"and I am\", myAge, \"years old.\")"
   ]
  },
  {
   "cell_type": "markdown",
   "metadata": {},
   "source": [
    "# format print() function using <font color=blue> %</font>"
   ]
  },
  {
   "cell_type": "code",
   "execution_count": 504,
   "metadata": {},
   "outputs": [
    {
     "name": "stdout",
     "output_type": "stream",
     "text": [
      "Hello World, my name is ALi and I am 12 years old.\n"
     ]
    }
   ],
   "source": [
    "print (\"Hello World, my name is %s and I am %d years old.\" %(myName, myAge))"
   ]
  },
  {
   "cell_type": "markdown",
   "metadata": {},
   "source": [
    "# format print() function using <font color=blue> format()</font>"
   ]
  },
  {
   "cell_type": "code",
   "execution_count": 509,
   "metadata": {},
   "outputs": [
    {
     "name": "stdout",
     "output_type": "stream",
     "text": [
      "Hello World, my name is ALi and I am 12 years old.\n"
     ]
    }
   ],
   "source": [
    "print (\"Hello World, my name is {} and I am {} years old.\".format(myName, myAge))"
   ]
  },
  {
   "cell_type": "markdown",
   "metadata": {},
   "source": [
    "# <font color=red>Example: </font>\n",
    "## Write a program that reads the temperature in Fahrenheit and prints its equivalent Temperature in Celsius.\n",
    "### Note: <font color=blue> $c=\\frac{(f-32)*5}{9}$ </font>"
   ]
  },
  {
   "cell_type": "code",
   "execution_count": 510,
   "metadata": {},
   "outputs": [
    {
     "name": "stdout",
     "output_type": "stream",
     "text": [
      "enter the temprature in fahrenheit: 72\n",
      "the temprature in celsius is: 22.222222\n"
     ]
    }
   ],
   "source": [
    "f=float(input(\"enter the temprature in fahrenheit: \"))\n",
    "c=(f-32)*5/9\n",
    "print(\"the temprature in celsius is: %f\" %(c))"
   ]
  },
  {
   "cell_type": "markdown",
   "metadata": {},
   "source": [
    "# Printing a multi-line message using either<font color=blue> Three double quotes or single quotes</font>"
   ]
  },
  {
   "cell_type": "code",
   "execution_count": 514,
   "metadata": {},
   "outputs": [
    {
     "name": "stdout",
     "output_type": "stream",
     "text": [
      "This is a multi-line message\n",
      "      using triple double qoutes\n"
     ]
    }
   ],
   "source": [
    "print(\"\"\"This is a multi-line message\n",
    "      using triple double qoutes\"\"\")"
   ]
  },
  {
   "cell_type": "code",
   "execution_count": 515,
   "metadata": {},
   "outputs": [
    {
     "name": "stdout",
     "output_type": "stream",
     "text": [
      "This is a multi-line message\n",
      "      using triple single qoutes\n"
     ]
    }
   ],
   "source": [
    "print('''This is a multi-line message\n",
    "      using triple single qoutes''')"
   ]
  },
  {
   "cell_type": "markdown",
   "metadata": {},
   "source": [
    "# Escape Characters: To print some special “unprintable” characters such as a tab or a newline.\n",
    "## <font color=blue> \\n :  (Prints a newline) </font>"
   ]
  },
  {
   "cell_type": "code",
   "execution_count": 518,
   "metadata": {},
   "outputs": [
    {
     "name": "stdout",
     "output_type": "stream",
     "text": [
      "hello\n",
      "world\n"
     ]
    }
   ],
   "source": [
    "print(\"hello\\nworld\")"
   ]
  },
  {
   "cell_type": "markdown",
   "metadata": {},
   "source": [
    "## <font color=blue> \\t :  (Prints a tab) </font>"
   ]
  },
  {
   "cell_type": "code",
   "execution_count": 526,
   "metadata": {},
   "outputs": [
    {
     "name": "stdout",
     "output_type": "stream",
     "text": [
      "Hello\tWorld\n"
     ]
    }
   ],
   "source": [
    "print('Hello\\tWorld')"
   ]
  },
  {
   "cell_type": "markdown",
   "metadata": {},
   "source": [
    "## <font color=blue> \\ \\ \\: (Prints the backslash character itself) </font>"
   ]
  },
  {
   "cell_type": "code",
   "execution_count": 520,
   "metadata": {},
   "outputs": [
    {
     "name": "stdout",
     "output_type": "stream",
     "text": [
      "\\\n"
     ]
    }
   ],
   "source": [
    "print ('\\\\')"
   ]
  },
  {
   "cell_type": "markdown",
   "metadata": {},
   "source": [
    "## <font color=blue> \\”: (Prints double quote, so that the double quote does not signal the end of the string)</font>"
   ]
  },
  {
   "cell_type": "code",
   "execution_count": 524,
   "metadata": {},
   "outputs": [
    {
     "name": "stdout",
     "output_type": "stream",
     "text": [
      "Ahmed says, \" I am in the home\" \n"
     ]
    }
   ],
   "source": [
    "print (\"Ahmed says, \\\" I am in the home\\\" \")"
   ]
  },
  {
   "cell_type": "markdown",
   "metadata": {},
   "source": [
    "## <font color=blue> \\’ (Print single quote, so that the single quote does not signal the end of the string) </font>"
   ]
  },
  {
   "cell_type": "code",
   "execution_count": 525,
   "metadata": {},
   "outputs": [
    {
     "name": "stdout",
     "output_type": "stream",
     "text": [
      "I 'm 23 years old\n"
     ]
    }
   ],
   "source": [
    "print ('I \\'m 23 years old')"
   ]
  },
  {
   "cell_type": "markdown",
   "metadata": {},
   "source": [
    "### If you do not want characters preceded by the \\ character to be interpreted as special characters, add <font color=blue>r before the first quote</font>. "
   ]
  },
  {
   "cell_type": "code",
   "execution_count": 529,
   "metadata": {},
   "outputs": [
    {
     "name": "stdout",
     "output_type": "stream",
     "text": [
      "Hello\\tWorld\n"
     ]
    }
   ],
   "source": [
    "print (r'Hello\\tWorld')"
   ]
  }
 ],
 "metadata": {
  "kernelspec": {
   "display_name": "Python 3",
   "language": "python",
   "name": "python3"
  },
  "language_info": {
   "codemirror_mode": {
    "name": "ipython",
    "version": 3
   },
   "file_extension": ".py",
   "mimetype": "text/x-python",
   "name": "python",
   "nbconvert_exporter": "python",
   "pygments_lexer": "ipython3",
   "version": "3.7.6"
  }
 },
 "nbformat": 4,
 "nbformat_minor": 4
}
