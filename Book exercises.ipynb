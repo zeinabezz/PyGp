{
 "cells": [
  {
   "cell_type": "code",
   "execution_count": null,
   "metadata": {
    "colab": {
     "base_uri": "https://localhost:8080/"
    },
    "id": "SoLZkfYzbu1x",
    "outputId": "fd9e1d33-1078-4f33-ccfc-912a5716f04e"
   },
   "outputs": [
    {
     "name": "stdout",
     "output_type": "stream",
     "text": [
      "1\n",
      "3\n",
      "4\n",
      "6\n",
      "8\n",
      "done\n"
     ]
    }
   ],
   "source": [
    "i=0\n",
    "while i!=len(l):\n",
    "   print(l[i])\n",
    "   i=i+1\n",
    "\n",
    "print('done')"
   ]
  },
  {
   "cell_type": "code",
   "execution_count": null,
   "metadata": {
    "colab": {
     "base_uri": "https://localhost:8080/"
    },
    "id": "kKdnJ6DRcJpn",
    "outputId": "c8214134-0105-49c6-93ba-802e84f13b05"
   },
   "outputs": [
    {
     "name": "stdout",
     "output_type": "stream",
     "text": [
      "1\n",
      "3\n",
      "4\n",
      "6\n",
      "8\n",
      "done\n"
     ]
    }
   ],
   "source": [
    "i=0\n",
    "while True:\n",
    "   if i==len(l):\n",
    "     break\n",
    "   print(l[i])\n",
    "   i=i+1\n",
    "   \n",
    "print('done')"
   ]
  },
  {
   "cell_type": "code",
   "execution_count": null,
   "metadata": {
    "id": "-mDxQ6jjbsTH"
   },
   "outputs": [],
   "source": [
    "l=[1, 3, 4, 6, 8]"
   ]
  },
  {
   "cell_type": "code",
   "execution_count": null,
   "metadata": {
    "colab": {
     "base_uri": "https://localhost:8080/"
    },
    "id": "x4zawFsLd11d",
    "outputId": "90207bd8-fabf-426f-ac87-cd8f49dd9d13"
   },
   "outputs": [
    {
     "name": "stdout",
     "output_type": "stream",
     "text": [
      "1\n",
      "3\n",
      "4\n",
      "8\n",
      "done\n"
     ]
    }
   ],
   "source": [
    "i=0\n",
    "while True:\n",
    "   i=i+1\n",
    "   if i==4:\n",
    "     continue\n",
    "   if i==len(l)+1:\n",
    "     break\n",
    "   print(l[i-1])\n",
    "   \n",
    "print('done')"
   ]
  },
  {
   "cell_type": "code",
   "execution_count": 15,
   "metadata": {
    "colab": {
     "base_uri": "https://localhost:8080/"
    },
    "id": "c5ktbFNUgU8E",
    "outputId": "92d3fd9b-6fc3-4e07-99e7-c23cd586a12c"
   },
   "outputs": [
    {
     "name": "stdout",
     "output_type": "stream",
     "text": [
      "4\n",
      "7\n",
      "9\n"
     ]
    }
   ],
   "source": [
    "l=[4, 7, 9]\n",
    "for counter in l:\n",
    "  print(counter)\n"
   ]
  },
  {
   "cell_type": "code",
   "execution_count": 16,
   "metadata": {
    "colab": {
     "base_uri": "https://localhost:8080/"
    },
    "id": "deTGGyImuXrn",
    "outputId": "3b5207bc-6cb1-43a8-866c-61eca7ab33cd"
   },
   "outputs": [
    {
     "name": "stdout",
     "output_type": "stream",
     "text": [
      "1\n",
      "2\n",
      "3\n",
      "4\n",
      "5\n"
     ]
    }
   ],
   "source": [
    "l=[1, 2, 3, 4, 5]\n",
    "for i in l:\n",
    "  print(i)"
   ]
  },
  {
   "cell_type": "code",
   "execution_count": 19,
   "metadata": {
    "colab": {
     "base_uri": "https://localhost:8080/",
     "height": 133
    },
    "id": "O-I48V05uoN_",
    "outputId": "fc2a046f-4af3-4e54-a688-7e49ccabec6f"
   },
   "outputs": [
    {
     "ename": "SyntaxError",
     "evalue": "ignored",
     "output_type": "error",
     "traceback": [
      "\u001b[0;36m  File \u001b[0;32m\"<ipython-input-19-5f34faf40790>\"\u001b[0;36m, line \u001b[0;32m1\u001b[0m\n\u001b[0;31m    l=list(1:100)\u001b[0m\n\u001b[0m            ^\u001b[0m\n\u001b[0;31mSyntaxError\u001b[0m\u001b[0;31m:\u001b[0m invalid syntax\n"
     ]
    }
   ],
   "source": [
    "range(100, 1, -5)"
   ]
  },
  {
   "cell_type": "code",
   "execution_count": 20,
   "metadata": {
    "colab": {
     "base_uri": "https://localhost:8080/"
    },
    "id": "qEP7nrklu4GL",
    "outputId": "6c1d31e7-daaf-4d91-b0b9-85b4102032e7"
   },
   "outputs": [
    {
     "name": "stdout",
     "output_type": "stream",
     "text": [
      "the even number is:  2\n",
      "the even number is:  4\n",
      "the even number is:  6\n",
      "the even number is:  8\n",
      "the even number is:  10\n",
      "the even number is:  12\n",
      "the even number is:  14\n",
      "the even number is:  16\n",
      "the even number is:  18\n",
      "the even number is:  20\n",
      "the even number is:  22\n",
      "the even number is:  24\n"
     ]
    }
   ],
   "source": [
    "for i in range(1, 26):\n",
    "  if i%2==0:\n",
    "    print('the even number is: ', i)"
   ]
  },
  {
   "cell_type": "code",
   "execution_count": 21,
   "metadata": {
    "colab": {
     "base_uri": "https://localhost:8080/"
    },
    "id": "cAto1eMxyD_f",
    "outputId": "fe9f6da2-7e7b-4ade-c2af-e7ccf7301059"
   },
   "outputs": [
    {
     "name": "stdout",
     "output_type": "stream",
     "text": [
      "the even number is:  2\n",
      "the even number is:  4\n",
      "the even number is:  6\n",
      "the even number is:  8\n",
      "the even number is:  10\n",
      "the even number is:  12\n",
      "the even number is:  14\n",
      "the even number is:  16\n",
      "the even number is:  18\n",
      "the even number is:  20\n",
      "the even number is:  22\n",
      "the even number is:  24\n"
     ]
    }
   ],
   "source": [
    "for i in range(2, 26, 2):\n",
    "    print('the even number is: ', i)"
   ]
  },
  {
   "cell_type": "code",
   "execution_count": 26,
   "metadata": {
    "colab": {
     "base_uri": "https://localhost:8080/"
    },
    "id": "08iEuZ7uyjpF",
    "outputId": "a4b0f5ee-3108-4bda-f3a7-8ab51f14f96c"
   },
   "outputs": [
    {
     "name": "stdout",
     "output_type": "stream",
     "text": [
      "Enter two numbers: 3, 7\n",
      "4\n",
      "6\n"
     ]
    }
   ],
   "source": [
    "a, b=map(int, input('Enter two numbers: ').split(', '))\n",
    "\n",
    "for i in range(a, b+1):\n",
    "  if i%2==0: \n",
    "      print(i)"
   ]
  },
  {
   "cell_type": "code",
   "execution_count": 28,
   "metadata": {
    "colab": {
     "base_uri": "https://localhost:8080/"
    },
    "id": "Fq-tkcXay8_d",
    "outputId": "d1b25b70-f050-4515-8ceb-ae81f0375ac5"
   },
   "outputs": [
    {
     "name": "stdout",
     "output_type": "stream",
     "text": [
      "Enter two numbers: 2, 20\n",
      "2\n",
      "4\n",
      "6\n",
      "8\n",
      "10\n",
      "12\n",
      "14\n",
      "16\n",
      "18\n",
      "20\n"
     ]
    }
   ],
   "source": [
    "a, b=map(int, input('Enter two numbers: ').split(', '))\n",
    "if a%2==0:\n",
    "  step=2\n",
    "else:\n",
    "  step=1\n",
    "for i in range(a, b+1):\n",
    "  if i%2==0: \n",
    "      print(i)"
   ]
  },
  {
   "cell_type": "code",
   "execution_count": 32,
   "metadata": {
    "colab": {
     "base_uri": "https://localhost:8080/"
    },
    "id": "5MJK1dipzdp8",
    "outputId": "5b50023a-65b6-40d9-82b4-3ef69888cb26"
   },
   "outputs": [
    {
     "name": "stdout",
     "output_type": "stream",
     "text": [
      "Enter two numbers3, 19\n",
      "4\n",
      "6\n",
      "8\n",
      "10\n",
      "12\n",
      "14\n",
      "16\n",
      "18\n"
     ]
    }
   ],
   "source": [
    "a, b=map(int, input('Enter two numbers').split(', '))\n",
    "for i in range(a, b+1):\n",
    "  if i%2==0:\n",
    "     print(i)"
   ]
  },
  {
   "cell_type": "code",
   "execution_count": 39,
   "metadata": {
    "colab": {
     "base_uri": "https://localhost:8080/"
    },
    "id": "67HBkeWf0vhU",
    "outputId": "2be8a8d3-1c92-4172-a094-b74420b792a6"
   },
   "outputs": [
    {
     "name": "stdout",
     "output_type": "stream",
     "text": [
      "Enter two numbers2, 20\n",
      "2\n",
      "4\n",
      "6\n",
      "8\n",
      "10\n",
      "12\n",
      "14\n",
      "16\n",
      "18\n",
      "20\n"
     ]
    }
   ],
   "source": [
    "a, b=map(int, input('Enter two numbers').split(', '))\n",
    "if a%2==0:\n",
    "  start=a\n",
    "else:\n",
    "  start=a+1\n",
    "for i in range(start, b+1, 2):\n",
    "     print(i)"
   ]
  },
  {
   "cell_type": "code",
   "execution_count": 41,
   "metadata": {
    "colab": {
     "base_uri": "https://localhost:8080/"
    },
    "id": "44RW5ois1Wj3",
    "outputId": "df220f9e-0253-4909-fc6e-e11ddbed9df4"
   },
   "outputs": [
    {
     "name": "stdout",
     "output_type": "stream",
     "text": [
      "2\n"
     ]
    }
   ],
   "source": [
    "x=6\n",
    "y=3\n",
    "print(x//y)"
   ]
  },
  {
   "cell_type": "code",
   "execution_count": 104,
   "metadata": {
    "colab": {
     "base_uri": "https://localhost:8080/"
    },
    "id": "EirGhice8Noe",
    "outputId": "65239fea-8e2f-4b07-f8f5-80951a7b3c1d"
   },
   "outputs": [
    {
     "name": "stdout",
     "output_type": "stream",
     "text": [
      "x=  3\n",
      "y=  3\n"
     ]
    }
   ],
   "source": [
    "x= y=3\n",
    "print('x= ', x)\n",
    "print('y= ', y)"
   ]
  },
  {
   "cell_type": "code",
   "execution_count": 56,
   "metadata": {
    "colab": {
     "base_uri": "https://localhost:8080/"
    },
    "id": "Zz4oOFAi-DTP",
    "outputId": "96dffd1f-b348-4e7e-e161-96d6eb5198cf"
   },
   "outputs": [
    {
     "name": "stdout",
     "output_type": "stream",
     "text": [
      "23*45\n"
     ]
    }
   ],
   "source": [
    "print(23, end='*')\n",
    "print(45)\n"
   ]
  },
  {
   "cell_type": "markdown",
   "metadata": {},
   "source": [
    "# <font color='red'> Solution of the Book Exercises</font>"
   ]
  },
  {
   "cell_type": "code",
   "execution_count": 57,
   "metadata": {
    "colab": {
     "base_uri": "https://localhost:8080/",
     "height": 167
    },
    "id": "gcujHvS_DJus",
    "outputId": "69d7edfd-d0f8-4ef8-f66d-188dce2f232d"
   },
   "outputs": [
    {
     "ename": "TypeError",
     "evalue": "ignored",
     "output_type": "error",
     "traceback": [
      "\u001b[0;31m---------------------------------------------------------------------------\u001b[0m",
      "\u001b[0;31mTypeError\u001b[0m                                 Traceback (most recent call last)",
      "\u001b[0;32m<ipython-input-57-b168880bea75>\u001b[0m in \u001b[0;36m<module>\u001b[0;34m()\u001b[0m\n\u001b[0;32m----> 1\u001b[0;31m \u001b[0mprint\u001b[0m\u001b[0;34m(\u001b[0m\u001b[0;34m'x'\u001b[0m \u001b[0;34m+\u001b[0m \u001b[0;36m1\u001b[0m\u001b[0;34m)\u001b[0m\u001b[0;34m\u001b[0m\u001b[0;34m\u001b[0m\u001b[0m\n\u001b[0m",
      "\u001b[0;31mTypeError\u001b[0m: can only concatenate str (not \"int\") to str"
     ]
    }
   ],
   "source": [
    "# Question 3 (e)\n",
    "print('x' + 1)\n"
   ]
  },
  {
   "cell_type": "code",
   "execution_count": 59,
   "metadata": {
    "colab": {
     "base_uri": "https://localhost:8080/"
    },
    "id": "N5iY3JzWEpLP",
    "outputId": "ad351b8c-6dfb-453a-ec52-536151860150"
   },
   "outputs": [
    {
     "name": "stdout",
     "output_type": "stream",
     "text": [
      "enter ur namedsfsfs\n",
      "welcome dsfsfs\n"
     ]
    }
   ],
   "source": [
    "## Question 7\n",
    "name=input('enter ur name')\n",
    "print('welcome', name)"
   ]
  },
  {
   "cell_type": "code",
   "execution_count": 60,
   "metadata": {
    "colab": {
     "base_uri": "https://localhost:8080/"
    },
    "id": "7bm_9kZgGcdE",
    "outputId": "4065ac98-1911-4287-eaa7-2861e0a71af4"
   },
   "outputs": [
    {
     "name": "stdout",
     "output_type": "stream",
     "text": [
      "enter a number4\n",
      "ok\n"
     ]
    }
   ],
   "source": [
    "# Question 10\n",
    "\n",
    "num=int(input('enter a number'))\n",
    "if num>=1 and num<=100:\n",
    "  print('ok')"
   ]
  },
  {
   "cell_type": "code",
   "execution_count": 63,
   "metadata": {
    "colab": {
     "base_uri": "https://localhost:8080/"
    },
    "id": "ga2iDQQnI-Zc",
    "outputId": "05e9a928-5649-4ff9-fb94-7a8049e80921"
   },
   "outputs": [
    {
     "name": "stdout",
     "output_type": "stream",
     "text": [
      "enter a nmber3\n",
      "ok\n"
     ]
    }
   ],
   "source": [
    "# Question 10\n",
    "# anonther solution\n",
    "num=int(input('enter a nmber'))\n",
    "if num>=1 and num<=100:\n",
    "  print('ok')"
   ]
  },
  {
   "cell_type": "code",
   "execution_count": null,
   "metadata": {
    "id": "Md2f6vqKJVFy"
   },
   "outputs": [],
   "source": [
    "# Question 10\n",
    "# anonther solution\n",
    "num=int(input('enter a nmber'))\n",
    "if 1<=num<=100:\n",
    "  print('ok')"
   ]
  },
  {
   "cell_type": "code",
   "execution_count": 64,
   "metadata": {
    "colab": {
     "base_uri": "https://localhost:8080/"
    },
    "id": "9wofvMcNJL_F",
    "outputId": "34effb9c-e1d8-4fbb-e6d2-a9ace2206b27"
   },
   "outputs": [
    {
     "name": "stdout",
     "output_type": "stream",
     "text": [
      "enter a nmber3\n",
      "ok\n"
     ]
    }
   ],
   "source": [
    "# Question 10\n",
    "# anonther solution\n",
    "num=int(input('enter a nmber'))\n",
    "if num>=1 and num<=100:\n",
    "  print('ok')\n",
    "else:\n",
    "  pass"
   ]
  },
  {
   "cell_type": "code",
   "execution_count": 72,
   "metadata": {
    "colab": {
     "base_uri": "https://localhost:8080/"
    },
    "id": "-QlL8dP7JgO1",
    "outputId": "b1e41371-7610-4af5-cc38-d372fbe9f7a1"
   },
   "outputs": [
    {
     "name": "stdout",
     "output_type": "stream",
     "text": [
      "enter a nmber3\n",
      "ok\n"
     ]
    }
   ],
   "source": [
    "# Question 10\n",
    "# anonther solution\n",
    "num=int(input('enter a nmber'))\n",
    "if 1<=num<=100:  print('ok')\n",
    "  "
   ]
  },
  {
   "cell_type": "code",
   "execution_count": 74,
   "metadata": {
    "colab": {
     "base_uri": "https://localhost:8080/"
    },
    "id": "u2DJNtwEJpe7",
    "outputId": "f72476cf-2a13-4219-8585-5c76533f6c8f"
   },
   "outputs": [
    {
     "name": "stdout",
     "output_type": "stream",
     "text": [
      "enter anumber3\n",
      "ok\n"
     ]
    }
   ],
   "source": [
    "# Question 10\n",
    "# anonther solution\n",
    "num=int(input('enter anumber'))\n",
    "if num in list(range(1, 101)):\n",
    "  print('ok')"
   ]
  },
  {
   "cell_type": "code",
   "execution_count": 76,
   "metadata": {
    "colab": {
     "base_uri": "https://localhost:8080/"
    },
    "id": "xdLvZxq1KN1D",
    "outputId": "5bb08e9f-60f9-4e63-e4d6-0cc4a8b5c5a5"
   },
   "outputs": [
    {
     "name": "stdout",
     "output_type": "stream",
     "text": [
      "enter anumber567\n",
      "put of range\n"
     ]
    }
   ],
   "source": [
    "## Question 11\n",
    "x=int(input('enter anumber'))\n",
    "if x in range(1, 101):\n",
    "  print('ok')\n",
    "else:\n",
    "  print('out of range')"
   ]
  },
  {
   "cell_type": "code",
   "execution_count": 84,
   "metadata": {
    "colab": {
     "base_uri": "https://localhost:8080/"
    },
    "id": "hBAydeZtLTkm",
    "outputId": "7f7df63b-d1fd-4364-bb77-0e1d7b415431"
   },
   "outputs": [
    {
     "name": "stdout",
     "output_type": "stream",
     "text": [
      "enter a number from 0.0 to 1.0: 1.0\n",
      "A\n"
     ]
    }
   ],
   "source": [
    "## Question 12\n",
    "x=float(input('enter a number from 0.0 to 1.0: '))\n",
    "if not (0.0<=x<=1.0):\n",
    "  print('error msg')\n",
    "elif x>=0.9:\n",
    "  print('A')\n",
    "elif x>0.8:\n",
    "  print('B')\n",
    "elif x>=0.7:\n",
    "  print('C')\n",
    "elif x>=0.6:\n",
    "    print('D')\n",
    "elif x<0.6:\n",
    "  print('F')\n"
   ]
  },
  {
   "cell_type": "code",
   "execution_count": 87,
   "metadata": {
    "colab": {
     "base_uri": "https://localhost:8080/"
    },
    "id": "KTV5ZX0zOeX4",
    "outputId": "b80a3326-f1c5-42bf-b352-718692026628"
   },
   "outputs": [
    {
     "name": "stdout",
     "output_type": "stream",
     "text": [
      "enter a number from 0.0 to 1.0: 1.0\n",
      "A\n"
     ]
    }
   ],
   "source": [
    "# Question 12\n",
    "# another solution\n",
    "x=float(input('enter a number from 0.0 to 1.0: '))\n",
    "if x<0.0 or x>1.0:\n",
    "  print('error msg')\n",
    "elif x>=0.9:\n",
    "  print('A')\n",
    "elif x>0.8:\n",
    "  print('B')\n",
    "elif x>=0.7:\n",
    "  print('C')\n",
    "elif x>=0.6:\n",
    "    print('D')\n",
    "elif x<0.6:\n",
    "  print('F')\n"
   ]
  },
  {
   "cell_type": "code",
   "execution_count": 90,
   "metadata": {
    "colab": {
     "base_uri": "https://localhost:8080/"
    },
    "id": "Sbg9NWUkPHtV",
    "outputId": "6170ae25-6835-43ad-e81d-b7119759b893"
   },
   "outputs": [
    {
     "name": "stdout",
     "output_type": "stream",
     "text": [
      "enter 5 numbers23, -45, -354, 45, 0\n"
     ]
    }
   ],
   "source": [
    "a, b, c, d, e=map(int, input('enter 5 numbers').split(', '))\n",
    "max=min=a\n",
    "if b<min:\n",
    "  min=b\n",
    "if c<min:\n",
    "  min=c\n",
    "if d<min:\n",
    "  min=d\n",
    "if e<min:\n",
    "  min=e\n"
   ]
  },
  {
   "cell_type": "code",
   "execution_count": 91,
   "metadata": {
    "colab": {
     "base_uri": "https://localhost:8080/"
    },
    "id": "X5TZU7c3ScU0",
    "outputId": "76a9773a-6239-47cf-c021-91b2ca8c0f69"
   },
   "outputs": [
    {
     "data": {
      "text/plain": [
       "-354"
      ]
     },
     "execution_count": 91,
     "metadata": {},
     "output_type": "execute_result"
    }
   ],
   "source": [
    "min\n"
   ]
  },
  {
   "cell_type": "code",
   "execution_count": 92,
   "metadata": {
    "colab": {
     "base_uri": "https://localhost:8080/"
    },
    "id": "WalAWDNYSvOZ",
    "outputId": "8d5d67ca-cf9b-4806-cce7-3a1fa8c30960"
   },
   "outputs": [
    {
     "name": "stdout",
     "output_type": "stream",
     "text": [
      "enter a number: 45\n",
      "enter a number: -567\n",
      "enter a number: -234\n",
      "enter a number: -23557\n",
      "enter a number: 0\n"
     ]
    }
   ],
   "source": [
    "l=[]\n",
    "for i in range(5):\n",
    "  l.append(int(input('enter a number: ')))"
   ]
  },
  {
   "cell_type": "code",
   "execution_count": 93,
   "metadata": {
    "colab": {
     "base_uri": "https://localhost:8080/"
    },
    "id": "Kt32Vp3ZTNsA",
    "outputId": "b239039b-53ff-4603-ff5e-71246c99c4c5"
   },
   "outputs": [
    {
     "data": {
      "text/plain": [
       "[45, -567, -234, -23557, 0]"
      ]
     },
     "execution_count": 93,
     "metadata": {},
     "output_type": "execute_result"
    }
   ],
   "source": [
    "l"
   ]
  },
  {
   "cell_type": "code",
   "execution_count": 95,
   "metadata": {
    "colab": {
     "base_uri": "https://localhost:8080/"
    },
    "id": "R7nFQoFFTS5_",
    "outputId": "c0ef8b1b-4f6c-47de-95a9-86d09d1f71fa"
   },
   "outputs": [
    {
     "name": "stdout",
     "output_type": "stream",
     "text": [
      "min is:  -23557\n",
      "max is:  45\n"
     ]
    }
   ],
   "source": [
    "## Queston 16, 14\n",
    "l=[]\n",
    "sum=0\n",
    "for i in range(5):\n",
    "  l.append(int(input('enter a number: ')))\n",
    "  sum=+l[i]\n",
    "print('avg= 'sum/5)\n",
    "min=max=l[0]\n",
    "for i in l:\n",
    "  if i<min:\n",
    "    min=i\n",
    "  if i>max:\n",
    "    max=i\n",
    "\n",
    "print('min is: ', min)\n",
    "print('max is: ', max)"
   ]
  },
  {
   "cell_type": "code",
   "execution_count": 96,
   "metadata": {
    "id": "FujbtLlcUGLy"
   },
   "outputs": [],
   "source": [
    "l=[34]"
   ]
  },
  {
   "cell_type": "code",
   "execution_count": 97,
   "metadata": {
    "colab": {
     "base_uri": "https://localhost:8080/"
    },
    "id": "aT0svNRpUkjk",
    "outputId": "e94a821b-9504-473a-91c8-9cfe11e3ba90"
   },
   "outputs": [
    {
     "data": {
      "text/plain": [
       "[34]"
      ]
     },
     "execution_count": 97,
     "metadata": {},
     "output_type": "execute_result"
    }
   ],
   "source": [
    "l"
   ]
  },
  {
   "cell_type": "code",
   "execution_count": 98,
   "metadata": {
    "id": "L5nRuyy9Ulat"
   },
   "outputs": [],
   "source": [
    "l.append(8)"
   ]
  },
  {
   "cell_type": "code",
   "execution_count": 99,
   "metadata": {
    "colab": {
     "base_uri": "https://localhost:8080/"
    },
    "id": "YlU2imFVUn92",
    "outputId": "fdb9b5cf-dc37-4863-fbd6-5c59b3169948"
   },
   "outputs": [
    {
     "data": {
      "text/plain": [
       "[34, 8]"
      ]
     },
     "execution_count": 99,
     "metadata": {},
     "output_type": "execute_result"
    }
   ],
   "source": [
    "l"
   ]
  },
  {
   "cell_type": "code",
   "execution_count": 101,
   "metadata": {
    "colab": {
     "base_uri": "https://localhost:8080/"
    },
    "id": "F5IMSxOzUoxa",
    "outputId": "d56f657f-6b1e-4bed-a62c-92631d7d5970"
   },
   "outputs": [
    {
     "name": "stdout",
     "output_type": "stream",
     "text": [
      "enter a float numebr: 23\n",
      "enter a float numebr: 0\n",
      "enter a float numebr: 456\n",
      "enter a float numebr: 234\n",
      "enter a float numebr: 78\n",
      "enter a float numebr: 345\n",
      "enter a float numebr: 345\n",
      "enter a float numebr: 4567\n",
      "enter a float numebr: -45\n",
      "summation is:  6048.0\n",
      "average is:  756.0\n",
      "min ia:  0.0\n",
      "max is:  4567.0\n"
     ]
    }
   ],
   "source": [
    "### Question # 17\n",
    "l=[]\n",
    "sum=0\n",
    "cout=0\n",
    "while True:\n",
    "  x=float(input('enter a float numebr: '))\n",
    "  if x<0:\n",
    "    break\n",
    "  l.append(x)\n",
    "  sum+=x\n",
    "  if count==0:\n",
    "    min=max=x\n",
    "  else:\n",
    "    if x<min:\n",
    "      min=x\n",
    "    if x>max:\n",
    "      max=x\n",
    "  count=count+1\n",
    "  \n",
    "  \n",
    "##   [5, -345, 0, -34543, 656576]\n",
    "\n",
    "print('summation is: ', sum)\n",
    "print('average is: ', sum/len(l))\n",
    "print('min ia: ', min)\n",
    "print('max is: ', max)\n"
   ]
  },
  {
   "cell_type": "code",
   "execution_count": 103,
   "metadata": {
    "colab": {
     "base_uri": "https://localhost:8080/"
    },
    "id": "Xo5eEvpiXE9r",
    "outputId": "7b91497f-6a43-43c2-a52b-f9e58b5bf0e9"
   },
   "outputs": [
    {
     "name": "stdout",
     "output_type": "stream",
     "text": [
      "enter a number: 34\n",
      "enter a number: -45\n",
      "enter a number: 0\n",
      "enter a number: finish\n",
      "invaild number\n",
      "enter a number: 5\n",
      "enter a number: 23\n",
      "enter a number: -3\n",
      "enter a number: hello\n",
      "invaild number\n",
      "enter a number: done\n",
      "sum=  14\n",
      "count=  6\n",
      "avg=  2.3333333333333335\n"
     ]
    }
   ],
   "source": [
    "## Question 19\n",
    "\n",
    "l=[]\n",
    "sum=0\n",
    "while True:\n",
    "  x=input('enter a number: ')\n",
    "  if x=='done':\n",
    "    break\n",
    "  if x.isalpha():\n",
    "    print('invaild number')\n",
    "  else:\n",
    "    x=int(x)\n",
    "    l.append(x)\n",
    "    sum+=x\n",
    "\n",
    "print('sum= ', sum)\n",
    "print('count= ', len(l))\n",
    "print('avg= ', sum/len(l))\n"
   ]
  },
  {
   "cell_type": "code",
   "execution_count": null,
   "metadata": {
    "id": "EyCIEMwkeeu2"
   },
   "outputs": [],
   "source": []
  }
 ],
 "metadata": {
  "colab": {
   "name": "Book Exercises.ipynb",
   "provenance": []
  },
  "kernelspec": {
   "display_name": "Python 3",
   "language": "python",
   "name": "python3"
  },
  "language_info": {
   "codemirror_mode": {
    "name": "ipython",
    "version": 3
   },
   "file_extension": ".py",
   "mimetype": "text/x-python",
   "name": "python",
   "nbconvert_exporter": "python",
   "pygments_lexer": "ipython3",
   "version": "3.7.6"
  }
 },
 "nbformat": 4,
 "nbformat_minor": 1
}
